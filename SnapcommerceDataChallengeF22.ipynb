{
  "nbformat": 4,
  "nbformat_minor": 0,
  "metadata": {
    "colab": {
      "name": "Snapcommerce Data Challenge AmmarS",
      "provenance": [],
      "collapsed_sections": [],
      "authorship_tag": "ABX9TyOTRH9H8sX+/WC3yt3zoQ9g",
      "include_colab_link": true
    },
    "kernelspec": {
      "name": "python3",
      "display_name": "Python 3"
    },
    "language_info": {
      "name": "python"
    }
  },
  "cells": [
    {
      "cell_type": "markdown",
      "metadata": {
        "id": "view-in-github",
        "colab_type": "text"
      },
      "source": [
        "<a href=\"https://colab.research.google.com/gist/ammar-s847/c01ed68f2157424f4ff2538207100825/untitled1.ipynb\" target=\"_parent\"><img src=\"https://colab.research.google.com/assets/colab-badge.svg\" alt=\"Open In Colab\"/></a>"
      ]
    },
    {
      "cell_type": "markdown",
      "source": [
        "# Snapcommerce Data Challenge"
      ],
      "metadata": {
        "id": "Y9fdA_ULRrLJ"
      }
    },
    {
      "cell_type": "code",
      "source": [
        "data = 'Airline Code;DelayTimes;FlightCodes;To_From\\nAir Canada (!);[21, 40];20015.0;WAterLoo_NEWYork\\n<Air France> (12);[];;Montreal_TORONTO\\n(Porter Airways. );[60, 22, 87];20035.0;CALgary_Ottawa\\n12. Air France;[78, 66];;Ottawa_VANcouvER\\n\"\"\".\\\\.Lufthansa.\\\\.\"\"\";[12, 33];20055.0;london_MONTreal\\n'\n",
        "print(data)"
      ],
      "metadata": {
        "colab": {
          "base_uri": "https://localhost:8080/"
        },
        "id": "UZTbWHI1RvaA",
        "outputId": "69b0fea6-6b02-4856-ed3b-fcf51d36d4a3"
      },
      "execution_count": null,
      "outputs": [
        {
          "output_type": "stream",
          "name": "stdout",
          "text": [
            "Airline Code;DelayTimes;FlightCodes;To_From\n",
            "Air Canada (!);[21, 40];20015.0;WAterLoo_NEWYork\n",
            "<Air France> (12);[];;Montreal_TORONTO\n",
            "(Porter Airways. );[60, 22, 87];20035.0;CALgary_Ottawa\n",
            "12. Air France;[78, 66];;Ottawa_VANcouvER\n",
            "\"\"\".\\.Lufthansa.\\.\"\"\";[12, 33];20055.0;london_MONTreal\n",
            "\n"
          ]
        }
      ]
    },
    {
      "cell_type": "code",
      "source": [
        "import pandas as pd\n",
        "import numpy as np\n",
        "\n",
        "list_df = [i for i in data.split('\\n')]\n",
        "header = list_df[0]\n",
        "list_df = list_df[1:len(list_df)-1]\n",
        "print(header)\n",
        "print(list_df)"
      ],
      "metadata": {
        "colab": {
          "base_uri": "https://localhost:8080/"
        },
        "id": "k6peVCKkRz5d",
        "outputId": "8f20397c-eb45-41a5-b2c0-bf26777b5715"
      },
      "execution_count": null,
      "outputs": [
        {
          "output_type": "stream",
          "name": "stdout",
          "text": [
            "Airline Code;DelayTimes;FlightCodes;To_From\n",
            "['Air Canada (!);[21, 40];20015.0;WAterLoo_NEWYork', '<Air France> (12);[];;Montreal_TORONTO', '(Porter Airways. );[60, 22, 87];20035.0;CALgary_Ottawa', '12. Air France;[78, 66];;Ottawa_VANcouvER', '\"\"\".\\\\.Lufthansa.\\\\.\"\"\";[12, 33];20055.0;london_MONTreal']\n"
          ]
        }
      ]
    },
    {
      "cell_type": "code",
      "source": [
        "list_df2 = []\n",
        "for i in list_df:\n",
        "    list_df2.append(i.split(';'))\n",
        "\n",
        "print(list_df2)"
      ],
      "metadata": {
        "colab": {
          "base_uri": "https://localhost:8080/"
        },
        "id": "b-bmYdC8TJpz",
        "outputId": "ce601936-c201-423a-c6fa-c0f3317636a9"
      },
      "execution_count": null,
      "outputs": [
        {
          "output_type": "stream",
          "name": "stdout",
          "text": [
            "[['Air Canada (!)', '[21, 40]', '20015.0', 'WAterLoo_NEWYork'], ['<Air France> (12)', '[]', '', 'Montreal_TORONTO'], ['(Porter Airways. )', '[60, 22, 87]', '20035.0', 'CALgary_Ottawa'], ['12. Air France', '[78, 66]', '', 'Ottawa_VANcouvER'], ['\"\"\".\\\\.Lufthansa.\\\\.\"\"\"', '[12, 33]', '20055.0', 'london_MONTreal']]\n"
          ]
        }
      ]
    },
    {
      "cell_type": "code",
      "source": [
        "# Cleaning Airline Codes\n",
        "import re\n",
        "\n",
        "for i in list_df2:\n",
        "    i[0] = re.sub(r'[^a-zA-Z ]+', '', i[0]).strip()\n",
        "\n",
        "print(list_df2)"
      ],
      "metadata": {
        "colab": {
          "base_uri": "https://localhost:8080/"
        },
        "id": "F3oPPkLRV_Q6",
        "outputId": "b278391b-6171-44a1-fa87-dcb4225aa4bc"
      },
      "execution_count": null,
      "outputs": [
        {
          "output_type": "stream",
          "name": "stdout",
          "text": [
            "[['Air Canada', '[21, 40]', '20015.0', 'WAterLoo_NEWYork'], ['Air France', '[]', '', 'Montreal_TORONTO'], ['Porter Airways', '[60, 22, 87]', '20035.0', 'CALgary_Ottawa'], ['Air France', '[78, 66]', '', 'Ottawa_VANcouvER'], ['Lufthansa', '[12, 33]', '20055.0', 'london_MONTreal']]\n"
          ]
        }
      ]
    },
    {
      "cell_type": "code",
      "source": [
        "# Imputing Flight Codes\n",
        "i = 0\n",
        "while i < len(list_df2):\n",
        "    if len(list_df2[i][2]) == 0:\n",
        "        list_df2[i][2] = str(float(list_df2[i-1][2]) + 10)\n",
        "    list_df2[i][2] = int(float(list_df2[i][2]))\n",
        "    i += 1\n",
        "\n",
        "print(list_df2)"
      ],
      "metadata": {
        "colab": {
          "base_uri": "https://localhost:8080/"
        },
        "id": "YAs-HInx2OxL",
        "outputId": "3b1fb6bb-9401-40f4-ca00-639fa460dd6b"
      },
      "execution_count": null,
      "outputs": [
        {
          "output_type": "stream",
          "name": "stdout",
          "text": [
            "[['Air Canada', '[21, 40]', 20015, 'WAterLoo_NEWYork'], ['Air France', '[]', 20025, 'Montreal_TORONTO'], ['Porter Airways', '[60, 22, 87]', 20035, 'CALgary_Ottawa'], ['Air France', '[78, 66]', 20045, 'Ottawa_VANcouvER'], ['Lufthansa', '[12, 33]', 20055, 'london_MONTreal']]\n"
          ]
        }
      ]
    },
    {
      "cell_type": "code",
      "source": [
        "# Splitting To_From Column\n",
        "for i in list_df2:\n",
        "    split_set = i[3].split('_')\n",
        "    del i[3]\n",
        "    i.append(split_set[0].lower().capitalize())\n",
        "    i.append(split_set[1].lower().capitalize())\n",
        "\n",
        "print(list_df2)"
      ],
      "metadata": {
        "colab": {
          "base_uri": "https://localhost:8080/"
        },
        "id": "keDO6IcP4qG-",
        "outputId": "3d5f6b40-ff40-4a4f-d50b-61a000642e3c"
      },
      "execution_count": null,
      "outputs": [
        {
          "output_type": "stream",
          "name": "stdout",
          "text": [
            "[['Air Canada', '[21, 40]', 20015, 'Waterloo', 'Newyork'], ['Air France', '[]', 20025, 'Montreal', 'Toronto'], ['Porter Airways', '[60, 22, 87]', 20035, 'Calgary', 'Ottawa'], ['Air France', '[78, 66]', 20045, 'Ottawa', 'Vancouver'], ['Lufthansa', '[12, 33]', 20055, 'London', 'Montreal']]\n"
          ]
        }
      ]
    },
    {
      "cell_type": "code",
      "source": [
        "# Converting to Pandas DataFrame\n",
        "df = pd.DataFrame(\n",
        "    list_df2,\n",
        "    columns=['Airline Code', 'Delay Times', 'Flight Codes', 'To', 'From']\n",
        ")\n",
        "df.head()"
      ],
      "metadata": {
        "colab": {
          "base_uri": "https://localhost:8080/",
          "height": 206
        },
        "id": "VrjrLSzg55XA",
        "outputId": "b591fc05-74f0-4208-9cf1-ff717054f60e"
      },
      "execution_count": null,
      "outputs": [
        {
          "output_type": "execute_result",
          "data": {
            "text/plain": [
              "     Airline Code   Delay Times  Flight Codes        To       From\n",
              "0      Air Canada      [21, 40]         20015  Waterloo    Newyork\n",
              "1      Air France            []         20025  Montreal    Toronto\n",
              "2  Porter Airways  [60, 22, 87]         20035   Calgary     Ottawa\n",
              "3      Air France      [78, 66]         20045    Ottawa  Vancouver\n",
              "4       Lufthansa      [12, 33]         20055    London   Montreal"
            ],
            "text/html": [
              "\n",
              "  <div id=\"df-07bf2896-a8c8-47a2-a017-4240d00c7b4f\">\n",
              "    <div class=\"colab-df-container\">\n",
              "      <div>\n",
              "<style scoped>\n",
              "    .dataframe tbody tr th:only-of-type {\n",
              "        vertical-align: middle;\n",
              "    }\n",
              "\n",
              "    .dataframe tbody tr th {\n",
              "        vertical-align: top;\n",
              "    }\n",
              "\n",
              "    .dataframe thead th {\n",
              "        text-align: right;\n",
              "    }\n",
              "</style>\n",
              "<table border=\"1\" class=\"dataframe\">\n",
              "  <thead>\n",
              "    <tr style=\"text-align: right;\">\n",
              "      <th></th>\n",
              "      <th>Airline Code</th>\n",
              "      <th>Delay Times</th>\n",
              "      <th>Flight Codes</th>\n",
              "      <th>To</th>\n",
              "      <th>From</th>\n",
              "    </tr>\n",
              "  </thead>\n",
              "  <tbody>\n",
              "    <tr>\n",
              "      <th>0</th>\n",
              "      <td>Air Canada</td>\n",
              "      <td>[21, 40]</td>\n",
              "      <td>20015</td>\n",
              "      <td>Waterloo</td>\n",
              "      <td>Newyork</td>\n",
              "    </tr>\n",
              "    <tr>\n",
              "      <th>1</th>\n",
              "      <td>Air France</td>\n",
              "      <td>[]</td>\n",
              "      <td>20025</td>\n",
              "      <td>Montreal</td>\n",
              "      <td>Toronto</td>\n",
              "    </tr>\n",
              "    <tr>\n",
              "      <th>2</th>\n",
              "      <td>Porter Airways</td>\n",
              "      <td>[60, 22, 87]</td>\n",
              "      <td>20035</td>\n",
              "      <td>Calgary</td>\n",
              "      <td>Ottawa</td>\n",
              "    </tr>\n",
              "    <tr>\n",
              "      <th>3</th>\n",
              "      <td>Air France</td>\n",
              "      <td>[78, 66]</td>\n",
              "      <td>20045</td>\n",
              "      <td>Ottawa</td>\n",
              "      <td>Vancouver</td>\n",
              "    </tr>\n",
              "    <tr>\n",
              "      <th>4</th>\n",
              "      <td>Lufthansa</td>\n",
              "      <td>[12, 33]</td>\n",
              "      <td>20055</td>\n",
              "      <td>London</td>\n",
              "      <td>Montreal</td>\n",
              "    </tr>\n",
              "  </tbody>\n",
              "</table>\n",
              "</div>\n",
              "      <button class=\"colab-df-convert\" onclick=\"convertToInteractive('df-07bf2896-a8c8-47a2-a017-4240d00c7b4f')\"\n",
              "              title=\"Convert this dataframe to an interactive table.\"\n",
              "              style=\"display:none;\">\n",
              "        \n",
              "  <svg xmlns=\"http://www.w3.org/2000/svg\" height=\"24px\"viewBox=\"0 0 24 24\"\n",
              "       width=\"24px\">\n",
              "    <path d=\"M0 0h24v24H0V0z\" fill=\"none\"/>\n",
              "    <path d=\"M18.56 5.44l.94 2.06.94-2.06 2.06-.94-2.06-.94-.94-2.06-.94 2.06-2.06.94zm-11 1L8.5 8.5l.94-2.06 2.06-.94-2.06-.94L8.5 2.5l-.94 2.06-2.06.94zm10 10l.94 2.06.94-2.06 2.06-.94-2.06-.94-.94-2.06-.94 2.06-2.06.94z\"/><path d=\"M17.41 7.96l-1.37-1.37c-.4-.4-.92-.59-1.43-.59-.52 0-1.04.2-1.43.59L10.3 9.45l-7.72 7.72c-.78.78-.78 2.05 0 2.83L4 21.41c.39.39.9.59 1.41.59.51 0 1.02-.2 1.41-.59l7.78-7.78 2.81-2.81c.8-.78.8-2.07 0-2.86zM5.41 20L4 18.59l7.72-7.72 1.47 1.35L5.41 20z\"/>\n",
              "  </svg>\n",
              "      </button>\n",
              "      \n",
              "  <style>\n",
              "    .colab-df-container {\n",
              "      display:flex;\n",
              "      flex-wrap:wrap;\n",
              "      gap: 12px;\n",
              "    }\n",
              "\n",
              "    .colab-df-convert {\n",
              "      background-color: #E8F0FE;\n",
              "      border: none;\n",
              "      border-radius: 50%;\n",
              "      cursor: pointer;\n",
              "      display: none;\n",
              "      fill: #1967D2;\n",
              "      height: 32px;\n",
              "      padding: 0 0 0 0;\n",
              "      width: 32px;\n",
              "    }\n",
              "\n",
              "    .colab-df-convert:hover {\n",
              "      background-color: #E2EBFA;\n",
              "      box-shadow: 0px 1px 2px rgba(60, 64, 67, 0.3), 0px 1px 3px 1px rgba(60, 64, 67, 0.15);\n",
              "      fill: #174EA6;\n",
              "    }\n",
              "\n",
              "    [theme=dark] .colab-df-convert {\n",
              "      background-color: #3B4455;\n",
              "      fill: #D2E3FC;\n",
              "    }\n",
              "\n",
              "    [theme=dark] .colab-df-convert:hover {\n",
              "      background-color: #434B5C;\n",
              "      box-shadow: 0px 1px 3px 1px rgba(0, 0, 0, 0.15);\n",
              "      filter: drop-shadow(0px 1px 2px rgba(0, 0, 0, 0.3));\n",
              "      fill: #FFFFFF;\n",
              "    }\n",
              "  </style>\n",
              "\n",
              "      <script>\n",
              "        const buttonEl =\n",
              "          document.querySelector('#df-07bf2896-a8c8-47a2-a017-4240d00c7b4f button.colab-df-convert');\n",
              "        buttonEl.style.display =\n",
              "          google.colab.kernel.accessAllowed ? 'block' : 'none';\n",
              "\n",
              "        async function convertToInteractive(key) {\n",
              "          const element = document.querySelector('#df-07bf2896-a8c8-47a2-a017-4240d00c7b4f');\n",
              "          const dataTable =\n",
              "            await google.colab.kernel.invokeFunction('convertToInteractive',\n",
              "                                                     [key], {});\n",
              "          if (!dataTable) return;\n",
              "\n",
              "          const docLinkHtml = 'Like what you see? Visit the ' +\n",
              "            '<a target=\"_blank\" href=https://colab.research.google.com/notebooks/data_table.ipynb>data table notebook</a>'\n",
              "            + ' to learn more about interactive tables.';\n",
              "          element.innerHTML = '';\n",
              "          dataTable['output_type'] = 'display_data';\n",
              "          await google.colab.output.renderOutput(dataTable, element);\n",
              "          const docLink = document.createElement('div');\n",
              "          docLink.innerHTML = docLinkHtml;\n",
              "          element.appendChild(docLink);\n",
              "        }\n",
              "      </script>\n",
              "    </div>\n",
              "  </div>\n",
              "  "
            ]
          },
          "metadata": {},
          "execution_count": 103
        }
      ]
    }
  ]
}